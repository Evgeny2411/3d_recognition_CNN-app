{
 "cells": [
  {
   "cell_type": "code",
   "execution_count": 376,
   "outputs": [],
   "source": [
    "import os\n",
    "import pandas as pd\n",
    "import numpy as np\n",
    "import matplotlib.pyplot as plt\n",
    "\n",
    "from sklearn.preprocessing import LabelEncoder\n",
    "from sklearn.metrics import classification_report, confusion_matrix\n",
    "\n",
    "#3d processing\n",
    "import pywavefront\n",
    "import trimesh\n",
    "\n",
    "# torch\n",
    "import torch\n",
    "import torch.nn as nn\n",
    "import torch.nn.functional as F\n",
    "from torch.utils.data import Dataset, DataLoader"
   ],
   "metadata": {
    "collapsed": false,
    "ExecuteTime": {
     "start_time": "2023-04-24T00:01:10.466093Z",
     "end_time": "2023-04-24T00:01:10.485094Z"
    }
   }
  },
  {
   "cell_type": "markdown",
   "source": [
    "Data collection and preparaion"
   ],
   "metadata": {
    "collapsed": false
   }
  },
  {
   "cell_type": "code",
   "execution_count": 347,
   "outputs": [],
   "source": [
    "def collect_data(dir_path, split_name):\n",
    "    data = []\n",
    "\n",
    "    for shape in os.listdir(dir_path):\n",
    "        shape_path = os.path.join(dir_path, shape)\n",
    "        if os.path.isdir(shape_path):\n",
    "            split_path = os.path.join(shape_path, split_name)\n",
    "            if os.path.isdir(split_path):\n",
    "                file_data = [{'filename': os.path.join(split_path, file), 'label':file.split('.')[0]} for file in os.listdir(split_path) if file.endswith('.obj')]\n",
    "                data.extend(file_data)\n",
    "\n",
    "    df = pd.DataFrame(data)\n",
    "    return df\n",
    "\n",
    "dir_path = 'data'\n",
    "train = collect_data(dir_path, 'train')\n",
    "test = collect_data(dir_path, 'test')\n",
    "valid = collect_data(dir_path, 'valid')\n",
    "\n"
   ],
   "metadata": {
    "collapsed": false,
    "ExecuteTime": {
     "start_time": "2023-04-23T23:45:31.667875Z",
     "end_time": "2023-04-23T23:45:31.713684Z"
    }
   }
  },
  {
   "cell_type": "markdown",
   "source": [
    "Encode data"
   ],
   "metadata": {
    "collapsed": false
   }
  },
  {
   "cell_type": "code",
   "execution_count": 348,
   "outputs": [],
   "source": [
    "encoder = LabelEncoder()\n",
    "encoder.fit(train['label'])\n",
    "train['label'] = encoder.transform(train['label'])\n",
    "test['label'] = encoder.transform(test['label'])\n",
    "valid['label'] = encoder.transform(valid['label'])"
   ],
   "metadata": {
    "collapsed": false,
    "ExecuteTime": {
     "start_time": "2023-04-23T23:45:33.137986Z",
     "end_time": "2023-04-23T23:45:33.162294Z"
    }
   }
  },
  {
   "cell_type": "markdown",
   "source": [
    "3d visualisation"
   ],
   "metadata": {
    "collapsed": false
   }
  },
  {
   "cell_type": "code",
   "execution_count": 296,
   "outputs": [
    {
     "name": "stderr",
     "output_type": "stream",
     "text": [
      "Unimplemented OBJ format statement 's' on line 's off'\n"
     ]
    }
   ],
   "source": [
    "import open3d as o3d\n",
    "\n",
    "def visualise(points):\n",
    "    pcd = o3d.geometry.PointCloud()\n",
    "    pcd.points = o3d.utility.Vector3dVector(points)\n",
    "\n",
    "    voxel_grid=o3d.geometry.VoxelGrid.create_from_point_cloud(pcd,voxel_size=0.01)\n",
    "\n",
    "    vis = o3d.visualization.Visualizer()\n",
    "    vis.create_window(window_name='Points', width=800, height=600)\n",
    "\n",
    "    vis.add_geometry(voxel_grid)\n",
    "\n",
    "    vis.run()\n",
    "    vis.destroy_window()\n",
    "\n",
    "\n",
    "obj = pywavefront.Wavefront('data/torus/train/Torus.1541.obj')\n",
    "visualise(obj.vertices)"
   ],
   "metadata": {
    "collapsed": false,
    "ExecuteTime": {
     "start_time": "2023-04-23T22:47:23.960966Z",
     "end_time": "2023-04-23T22:47:24.095048Z"
    }
   }
  },
  {
   "cell_type": "markdown",
   "source": [
    "Dataset implementation for torch"
   ],
   "metadata": {
    "collapsed": false
   }
  },
  {
   "cell_type": "code",
   "execution_count": 349,
   "outputs": [],
   "source": [
    "class PointCloudDataset(Dataset):\n",
    "    def __init__(self, df, num_points):\n",
    "        self.df = df\n",
    "        self.num_points = num_points\n",
    "\n",
    "    def __len__(self):\n",
    "        return len(self.df)\n",
    "\n",
    "    def __getitem__(self, idx):\n",
    "        file_path = self.df['filename'][idx]\n",
    "        label = self.df['label'][idx]\n",
    "        mesh = trimesh.load(file_path)\n",
    "        points = mesh.vertices\n",
    "        # Sample a fixed number of points from the point cloud\n",
    "        points, label = self.downsample(points, label)\n",
    "        # Normalize the point cloud\n",
    "        points = (points - np.mean(points, axis=0)) / np.std(points, axis=0)\n",
    "        points = torch.from_numpy(points).type(torch.float32)\n",
    "        label = torch.tensor(label).type(torch.LongTensor)\n",
    "        return points, label\n",
    "\n",
    "    def downsample(self, points, targets):\n",
    "        if len(points) > self.num_points:\n",
    "            choice = np.random.choice(len(points), self.num_points, replace=False)\n",
    "        else:\n",
    "            # case when there are less points than the desired number\n",
    "            choice = np.random.choice(len(points), self.num_points, replace=True)\n",
    "        points = points[choice, :]\n",
    "        targets = targets\n",
    "\n",
    "        return points, targets"
   ],
   "metadata": {
    "collapsed": false,
    "ExecuteTime": {
     "start_time": "2023-04-23T23:45:36.432116Z",
     "end_time": "2023-04-23T23:45:36.453460Z"
    }
   }
  },
  {
   "cell_type": "code",
   "execution_count": 350,
   "outputs": [],
   "source": [
    "train_dataset = PointCloudDataset(train, 1024)\n",
    "test_dataset = PointCloudDataset(test, 1024)\n",
    "valid_dataset = PointCloudDataset(valid, 1024)\n",
    "\n",
    "train_loader = DataLoader(train_dataset, batch_size=32, shuffle=True)\n",
    "test_loader = DataLoader(test_dataset, batch_size=32, shuffle=True)\n",
    "valid_loader = DataLoader(valid_dataset, batch_size=64)"
   ],
   "metadata": {
    "collapsed": false,
    "ExecuteTime": {
     "start_time": "2023-04-23T23:45:37.002337Z",
     "end_time": "2023-04-23T23:45:37.022373Z"
    }
   }
  },
  {
   "cell_type": "markdown",
   "source": [
    "PointNet implementation"
   ],
   "metadata": {
    "collapsed": false
   }
  },
  {
   "cell_type": "code",
   "execution_count": 351,
   "outputs": [],
   "source": [
    "class Tnet(nn.Module):\n",
    "    def __init__(self, k=3):\n",
    "        super().__init__()\n",
    "        self.k=k\n",
    "        self.conv1 = nn.Conv1d(k,64,1)\n",
    "        self.conv2 = nn.Conv1d(64,128,1)\n",
    "        self.conv3 = nn.Conv1d(128,1024,1)\n",
    "        self.fc1 = nn.Linear(1024,512)\n",
    "        self.fc2 = nn.Linear(512,256)\n",
    "        self.fc3 = nn.Linear(256,k*k)\n",
    "\n",
    "        self.bn1 = nn.BatchNorm1d(64)\n",
    "        self.bn2 = nn.BatchNorm1d(128)\n",
    "        self.bn3 = nn.BatchNorm1d(1024)\n",
    "        self.bn4 = nn.BatchNorm1d(512)\n",
    "        self.bn5 = nn.BatchNorm1d(256)\n",
    "\n",
    "    def forward(self, input):\n",
    "        bs = input.size(0)\n",
    "        xb = F.relu(self.bn1(self.conv1(input)))\n",
    "        xb = F.relu(self.bn2(self.conv2(xb)))\n",
    "        xb = F.relu(self.bn3(self.conv3(xb)))\n",
    "        pool = nn.MaxPool1d(xb.size(-1))(xb)\n",
    "        flat = nn.Flatten(1)(pool)\n",
    "        xb = F.relu(self.bn4(self.fc1(flat)))\n",
    "        xb = F.relu(self.bn5(self.fc2(xb)))\n",
    "\n",
    "        init = torch.eye(self.k, requires_grad=True).repeat(bs,1,1)\n",
    "        if xb.is_cuda:\n",
    "            init=init.cuda()\n",
    "        matrix = self.fc3(xb).view(-1,self.k,self.k) + init\n",
    "        return matrix"
   ],
   "metadata": {
    "collapsed": false,
    "ExecuteTime": {
     "start_time": "2023-04-23T23:45:38.639955Z",
     "end_time": "2023-04-23T23:45:38.668312Z"
    }
   }
  },
  {
   "cell_type": "code",
   "execution_count": 356,
   "outputs": [],
   "source": [
    "class PointNetBackbone(nn.Module):\n",
    "    def __init__(self, num_points=1024, num_feats=1024):\n",
    "\n",
    "        super(PointNetBackbone, self).__init__()\n",
    "\n",
    "        self.num_points = num_points\n",
    "        self.num_feats = num_feats\n",
    "\n",
    "        # Spatial Transformer Networks (T-nets)\n",
    "        self.tnet1 = Tnet(3)\n",
    "        self.tnet2 = Tnet(64)\n",
    "\n",
    "        # shared MLP 1\n",
    "        self.conv1 = nn.Conv1d(3, 64, kernel_size=1)\n",
    "        self.conv2 = nn.Conv1d(64, 64, kernel_size=1)\n",
    "\n",
    "        # shared MLP 2\n",
    "        self.conv3 = nn.Conv1d(64, 64, kernel_size=1)\n",
    "        self.conv4 = nn.Conv1d(64, 128, kernel_size=1)\n",
    "        self.conv5 = nn.Conv1d(128, self.num_feats, kernel_size=1)\n",
    "\n",
    "        # batch norms for both shared MLPs\n",
    "        self.bn1 = nn.BatchNorm1d(64)\n",
    "        self.bn2 = nn.BatchNorm1d(64)\n",
    "        self.bn3 = nn.BatchNorm1d(64)\n",
    "        self.bn4 = nn.BatchNorm1d(128)\n",
    "        self.bn5 = nn.BatchNorm1d(self.num_feats)\n",
    "\n",
    "        # max pool to get the global features\n",
    "        self.max_pool = nn.MaxPool1d(kernel_size=num_points, return_indices=True)\n",
    "\n",
    "\n",
    "    def forward(self, x):\n",
    "\n",
    "        bs = x.shape[0]\n",
    "\n",
    "        # pass through first Tnet to get transform matrix\n",
    "        A_input = self.tnet1(x)\n",
    "\n",
    "        # perform first transformation across each point in the batch\n",
    "        x = torch.bmm(x.transpose(2, 1), A_input).transpose(2, 1)\n",
    "\n",
    "        # pass through first shared MLP\n",
    "        x = self.bn1(F.relu(self.conv1(x)))\n",
    "        x = self.bn2(F.relu(self.conv2(x)))\n",
    "\n",
    "        # get feature transform\n",
    "        A_feat = self.tnet2(x)\n",
    "\n",
    "        # perform second transformation across each (64 dim) feature in the batch\n",
    "        x = torch.bmm(x.transpose(2, 1), A_feat).transpose(2, 1)\n",
    "\n",
    "\n",
    "        # pass through second MLP\n",
    "        x = self.bn3(F.relu(self.conv3(x)))\n",
    "        x = self.bn4(F.relu(self.conv4(x)))\n",
    "        x = self.bn5(F.relu(self.conv5(x)))\n",
    "\n",
    "        # get feature vector and critical indexes\n",
    "        features, critical_indexes = self.max_pool(x)\n",
    "        features = features.view(bs, -1)\n",
    "        critical_indexes = critical_indexes.view(bs, -1)\n",
    "\n",
    "        return features, critical_indexes, A_feat"
   ],
   "metadata": {
    "collapsed": false,
    "ExecuteTime": {
     "start_time": "2023-04-23T23:46:17.396961Z",
     "end_time": "2023-04-23T23:46:17.412504Z"
    }
   }
  },
  {
   "cell_type": "code",
   "execution_count": 357,
   "outputs": [],
   "source": [
    "class PointNet(nn.Module):\n",
    "    def __init__(self, classes = 6):\n",
    "        super().__init__()\n",
    "        self.transform = PointNetBackbone()\n",
    "        self.fc1 = nn.Linear(1024, 512)\n",
    "        self.fc2 = nn.Linear(512, 256)\n",
    "        self.fc3 = nn.Linear(256, classes)\n",
    "\n",
    "        self.bn1 = nn.BatchNorm1d(512)\n",
    "        self.bn2 = nn.BatchNorm1d(256)\n",
    "        self.dropout = nn.Dropout(p=0.3)\n",
    "\n",
    "    def forward(self, input):\n",
    "        x, crit_idxs, A_feat = self.transform(input)\n",
    "        x = self.bn1(F.relu(self.fc1(x)))\n",
    "        x = self.bn2(F.relu(self.fc2(x)))\n",
    "        x = self.dropout(x)\n",
    "        x = self.fc3(x)\n",
    "        return x, crit_idxs, A_feat"
   ],
   "metadata": {
    "collapsed": false,
    "ExecuteTime": {
     "start_time": "2023-04-23T23:46:17.992388Z",
     "end_time": "2023-04-23T23:46:18.026742Z"
    }
   }
  },
  {
   "cell_type": "code",
   "execution_count": 358,
   "outputs": [],
   "source": [
    "class PointNetLoss(nn.Module):\n",
    "    def __init__(self, alpha=None, gamma=0, reg_weight=0, size_average=True):\n",
    "        super(PointNetLoss, self).__init__()\n",
    "        self.alpha = alpha\n",
    "        self.gamma = gamma\n",
    "        self.reg_weight = reg_weight\n",
    "        self.size_average = size_average\n",
    "\n",
    "        if isinstance(alpha,(float, int)): self.alpha = torch.Tensor([alpha,1-alpha])\n",
    "        if isinstance(alpha,(list, np.ndarray)): self.alpha = torch.Tensor(alpha)\n",
    "\n",
    "        self.cross_entropy_loss = nn.CrossEntropyLoss(weight=self.alpha)\n",
    "\n",
    "\n",
    "    def forward(self, predictions, targets, A=None):\n",
    "\n",
    "        bs = predictions.size(0)\n",
    "\n",
    "        ce_loss = self.cross_entropy_loss(predictions, targets)\n",
    "\n",
    "        pn = F.softmax(predictions, dim = 0)\n",
    "        pn = pn.gather(1, targets.view(-1, 1)).view(-1)\n",
    "\n",
    "        # get regularization term\n",
    "        if self.reg_weight > 0:\n",
    "            I = torch.eye(64).unsqueeze(0).repeat(A.shape[0], 1, 1) # .to(device)\n",
    "            if A.is_cuda: I = I.cuda()\n",
    "            reg = torch.linalg.norm(I - torch.bmm(A, A.transpose(2, 1)))\n",
    "            reg = self.reg_weight*reg/bs\n",
    "        else:\n",
    "            reg = 0\n",
    "\n",
    "        loss = ((1 - pn)**self.gamma * ce_loss)\n",
    "        if self.size_average: return loss.mean() + reg\n",
    "        else: return loss.sum() + reg"
   ],
   "metadata": {
    "collapsed": false,
    "ExecuteTime": {
     "start_time": "2023-04-23T23:46:18.525941Z",
     "end_time": "2023-04-23T23:46:18.572877Z"
    }
   }
  },
  {
   "cell_type": "markdown",
   "source": [
    "test on one batch"
   ],
   "metadata": {
    "collapsed": false
   }
  },
  {
   "cell_type": "code",
   "execution_count": 359,
   "outputs": [
    {
     "data": {
      "text/plain": "torch.Size([32, 6])"
     },
     "execution_count": 359,
     "metadata": {},
     "output_type": "execute_result"
    }
   ],
   "source": [
    "points, targets = next(iter(train_loader))\n",
    "classifier = PointNet(6)\n",
    "out, _, _ = classifier(points.transpose(2,1))\n",
    "out.shape"
   ],
   "metadata": {
    "collapsed": false,
    "ExecuteTime": {
     "start_time": "2023-04-23T23:46:19.835481Z",
     "end_time": "2023-04-23T23:46:21.815343Z"
    }
   }
  },
  {
   "cell_type": "markdown",
   "source": [
    "Training"
   ],
   "metadata": {
    "collapsed": false
   }
  },
  {
   "cell_type": "code",
   "execution_count": 360,
   "outputs": [],
   "source": [
    "EPOCHS = 10\n",
    "LR = 0.0001\n",
    "REG_WEIGHT = 0.001\n",
    "device = torch.device(\"cuda\" if torch.cuda.is_available() else \"cpu\")\n",
    "\n",
    "alpha = np.ones(6)\n",
    "gamma = 2\n",
    "\n",
    "optimizer = torch.optim.Adam(classifier.parameters(), lr=LR)\n",
    "scheduler = torch.optim.lr_scheduler.CyclicLR(optimizer, base_lr=0.0001, max_lr=0.01,\n",
    "                                              step_size_up=2000, cycle_momentum=False)\n",
    "criterion = PointNetLoss(alpha=alpha, gamma=gamma, reg_weight=REG_WEIGHT).to(device)\n",
    "\n",
    "classifier = classifier.to(device)"
   ],
   "metadata": {
    "collapsed": false,
    "ExecuteTime": {
     "start_time": "2023-04-23T23:46:23.591610Z",
     "end_time": "2023-04-23T23:46:23.637409Z"
    }
   }
  },
  {
   "cell_type": "code",
   "execution_count": 361,
   "outputs": [],
   "source": [
    "def train_test(classifier, dataloader, num_batch, epoch, split='train'):\n",
    "    _loss = []\n",
    "    _accuracy = []\n",
    "\n",
    "    total_test_targets = []\n",
    "    total_test_preds = []\n",
    "    for i, (points, targets) in enumerate(dataloader, 0):\n",
    "\n",
    "        points = points.transpose(2, 1).to(device)\n",
    "        targets = targets.squeeze().to(device)\n",
    "\n",
    "        optimizer.zero_grad()\n",
    "        preds, _, A = classifier(points)\n",
    "        loss = criterion(preds, targets, A)\n",
    "\n",
    "        if split == 'train':\n",
    "            loss.backward()\n",
    "            optimizer.step()\n",
    "            scheduler.step()\n",
    "\n",
    "        pred_choice = torch.softmax(preds, dim=1).argmax(dim=1)\n",
    "        correct = pred_choice.eq(targets.data).cpu().sum()\n",
    "        accuracy = correct.item()/float(32)\n",
    "\n",
    "        _loss.append(loss.item())\n",
    "        _accuracy.append(accuracy)\n",
    "\n",
    "        if split == 'test':\n",
    "            total_test_targets += targets.reshape(-1).cpu().numpy().tolist()\n",
    "            total_test_preds += pred_choice.reshape(-1).cpu().numpy().tolist()\n",
    "\n",
    "        if i % 10 == 0:\n",
    "            print(f'\\t [{epoch}: {i}/{num_batch}] ' \\\n",
    "                  + f'{split} loss: {loss.item():.4f} ' \\\n",
    "                  + f'accuracy: {accuracy:.4f}')\n",
    "\n",
    "    epoch_loss = np.mean(_loss)\n",
    "    epoch_accuracy = np.mean(_accuracy)\n",
    "\n",
    "    print(f'Epoch: {epoch} - {split} Loss: {epoch_loss:.4f} ' \\\n",
    "          + f'- {split} Accuracy: {epoch_accuracy:.4f} ' \\\n",
    "          + f'- {split}')\n",
    "\n",
    "    if split == 'test':\n",
    "        return epoch_loss, epoch_accuracy, total_test_targets, total_test_preds\n",
    "    else:\n",
    "        return epoch_loss, epoch_accuracy\n"
   ],
   "metadata": {
    "collapsed": false,
    "ExecuteTime": {
     "start_time": "2023-04-23T23:46:24.693902Z",
     "end_time": "2023-04-23T23:46:24.719717Z"
    }
   }
  },
  {
   "cell_type": "code",
   "execution_count": 362,
   "outputs": [
    {
     "name": "stdout",
     "output_type": "stream",
     "text": [
      "\t [1: 0/38] train loss: 1.9324 accuracy: 0.0938\n",
      "\t [1: 10/38] train loss: 1.0365 accuracy: 0.6562\n",
      "\t [1: 20/38] train loss: 1.1576 accuracy: 0.4375\n",
      "\t [1: 30/38] train loss: 0.6449 accuracy: 0.7188\n",
      "Epoch: 1 - train Loss: 1.0595 - train Accuracy: 0.5493 - train\n",
      "\t [1: 0/19] test loss: 1.5322 accuracy: 0.4688\n",
      "\t [1: 10/19] test loss: 1.2718 accuracy: 0.5000\n",
      "Epoch: 1 - test Loss: 1.4321 - test Accuracy: 0.4539 - test\n",
      "\t [2: 0/38] train loss: 0.4182 accuracy: 0.8438\n",
      "\t [2: 10/38] train loss: 0.6628 accuracy: 0.6875\n",
      "\t [2: 20/38] train loss: 0.2758 accuracy: 0.9375\n",
      "\t [2: 30/38] train loss: 0.7395 accuracy: 0.7188\n",
      "Epoch: 2 - train Loss: 0.3905 - train Accuracy: 0.8405 - train\n",
      "\t [2: 0/19] test loss: 0.2121 accuracy: 0.9688\n",
      "\t [2: 10/19] test loss: 0.2228 accuracy: 0.9375\n",
      "Epoch: 2 - test Loss: 0.2698 - test Accuracy: 0.8947 - test\n",
      "\t [3: 0/38] train loss: 0.1951 accuracy: 0.9688\n",
      "\t [3: 10/38] train loss: 0.1524 accuracy: 0.9375\n",
      "\t [3: 20/38] train loss: 0.2618 accuracy: 0.9062\n",
      "\t [3: 30/38] train loss: 0.1138 accuracy: 0.9688\n",
      "Epoch: 3 - train Loss: 0.2326 - train Accuracy: 0.9013 - train\n",
      "\t [3: 0/19] test loss: 0.0836 accuracy: 1.0000\n",
      "\t [3: 10/19] test loss: 0.1017 accuracy: 1.0000\n",
      "Epoch: 3 - test Loss: 0.1090 - test Accuracy: 0.9720 - test\n",
      "\t [4: 0/38] train loss: 0.1032 accuracy: 1.0000\n",
      "\t [4: 10/38] train loss: 0.4064 accuracy: 0.7812\n",
      "\t [4: 20/38] train loss: 0.1818 accuracy: 0.8750\n",
      "\t [4: 30/38] train loss: 0.0650 accuracy: 1.0000\n",
      "Epoch: 4 - train Loss: 0.1702 - train Accuracy: 0.9260 - train\n",
      "\t [4: 0/19] test loss: 0.0952 accuracy: 0.9688\n",
      "\t [4: 10/19] test loss: 0.1260 accuracy: 0.9375\n",
      "Epoch: 4 - test Loss: 0.0963 - test Accuracy: 0.9671 - test\n",
      "\t [5: 0/38] train loss: 0.0563 accuracy: 1.0000\n",
      "\t [5: 10/38] train loss: 0.0800 accuracy: 0.9688\n",
      "\t [5: 20/38] train loss: 0.0579 accuracy: 1.0000\n",
      "\t [5: 30/38] train loss: 0.0698 accuracy: 0.9688\n",
      "Epoch: 5 - train Loss: 0.1480 - train Accuracy: 0.9383 - train\n",
      "\t [5: 0/19] test loss: 0.1154 accuracy: 1.0000\n",
      "\t [5: 10/19] test loss: 0.1383 accuracy: 1.0000\n",
      "Epoch: 5 - test Loss: 0.1915 - test Accuracy: 0.9424 - test\n",
      "\t [6: 0/38] train loss: 0.0544 accuracy: 1.0000\n",
      "\t [6: 10/38] train loss: 0.8882 accuracy: 0.7188\n",
      "\t [6: 20/38] train loss: 0.2750 accuracy: 0.9062\n",
      "\t [6: 30/38] train loss: 0.3794 accuracy: 0.8438\n",
      "Epoch: 6 - train Loss: 0.2616 - train Accuracy: 0.8988 - train\n",
      "\t [6: 0/19] test loss: 0.8613 accuracy: 0.8438\n",
      "\t [6: 10/19] test loss: 0.3817 accuracy: 0.8750\n",
      "Epoch: 6 - test Loss: 0.7405 - test Accuracy: 0.8257 - test\n",
      "\t [7: 0/38] train loss: 0.1982 accuracy: 0.9375\n",
      "\t [7: 10/38] train loss: 0.1362 accuracy: 1.0000\n",
      "\t [7: 20/38] train loss: 0.1087 accuracy: 1.0000\n",
      "\t [7: 30/38] train loss: 0.0922 accuracy: 1.0000\n",
      "Epoch: 7 - train Loss: 0.2152 - train Accuracy: 0.9178 - train\n",
      "\t [7: 0/19] test loss: 0.1259 accuracy: 0.9375\n",
      "\t [7: 10/19] test loss: 0.0678 accuracy: 1.0000\n",
      "Epoch: 7 - test Loss: 0.1010 - test Accuracy: 0.9638 - test\n",
      "\t [8: 0/38] train loss: 0.0761 accuracy: 1.0000\n",
      "\t [8: 10/38] train loss: 0.1597 accuracy: 0.9375\n",
      "\t [8: 20/38] train loss: 0.1236 accuracy: 0.9688\n",
      "\t [8: 30/38] train loss: 0.0510 accuracy: 1.0000\n",
      "Epoch: 8 - train Loss: 0.1054 - train Accuracy: 0.9646 - train\n",
      "\t [8: 0/19] test loss: 0.3832 accuracy: 0.8125\n",
      "\t [8: 10/19] test loss: 0.1412 accuracy: 0.9375\n",
      "Epoch: 8 - test Loss: 0.1893 - test Accuracy: 0.8882 - test\n",
      "\t [9: 0/38] train loss: 0.0670 accuracy: 1.0000\n",
      "\t [9: 10/38] train loss: 0.0515 accuracy: 1.0000\n",
      "\t [9: 20/38] train loss: 0.3837 accuracy: 0.8750\n",
      "\t [9: 30/38] train loss: 0.0476 accuracy: 1.0000\n",
      "Epoch: 9 - train Loss: 0.1082 - train Accuracy: 0.9613 - train\n",
      "\t [9: 0/19] test loss: 0.0587 accuracy: 1.0000\n",
      "\t [9: 10/19] test loss: 0.0612 accuracy: 1.0000\n",
      "Epoch: 9 - test Loss: 0.0891 - test Accuracy: 0.9622 - test\n"
     ]
    }
   ],
   "source": [
    "num_train_batch = int(np.ceil(len(train_dataset)/32))\n",
    "num_valid_batch = int(np.ceil(len(test_dataset)/32))\n",
    "\n",
    "train_metrics = []\n",
    "valid_metrics = []\n",
    "\n",
    "for epoch in range(1, 10):\n",
    "\n",
    "    classifier = classifier.train()\n",
    "\n",
    "    _train_metrics = train_test(classifier, train_loader,\n",
    "                                num_train_batch, epoch,\n",
    "                                split='train')\n",
    "    train_metrics.append(_train_metrics)\n",
    "\n",
    "    with torch.no_grad():\n",
    "\n",
    "        classifier = classifier.eval()\n",
    "\n",
    "        _valid_metrics = train_test(classifier, test_loader,\n",
    "                                    num_valid_batch, epoch,\n",
    "                                    split='test')\n",
    "        valid_metrics.append(_valid_metrics)\n",
    "\n"
   ],
   "metadata": {
    "collapsed": false,
    "ExecuteTime": {
     "start_time": "2023-04-23T23:46:25.618950Z",
     "end_time": "2023-04-23T23:49:59.538671Z"
    }
   }
  },
  {
   "cell_type": "code",
   "execution_count": 344,
   "outputs": [
    {
     "name": "stdout",
     "output_type": "stream",
     "text": [
      "              precision    recall  f1-score   support\n",
      "\n",
      "           0       0.94      1.00      0.97        50\n",
      "           1       0.78      0.98      0.87        50\n",
      "           2       1.00      0.96      0.98        50\n",
      "           3       1.00      0.72      0.84        50\n",
      "           4       0.83      1.00      0.91        50\n",
      "           5       1.00      0.80      0.89        50\n",
      "\n",
      "    accuracy                           0.91       300\n",
      "   macro avg       0.93      0.91      0.91       300\n",
      "weighted avg       0.93      0.91      0.91       300\n",
      "\n"
     ]
    }
   ],
   "source": [
    "predictions = []\n",
    "labels = []\n",
    "acc = []\n",
    "\n",
    "for i, (points, targets) in enumerate(valid_loader, 0):\n",
    "    with torch.no_grad():\n",
    "        classifier.eval().to('cpu')\n",
    "\n",
    "        points = points.transpose(2,1)\n",
    "        targets = targets.squeeze()\n",
    "\n",
    "        preds, _, A = classifier(points)\n",
    "        pred_choice = torch.softmax(preds, dim=1).argmax(dim=1)\n",
    "\n",
    "        correct = (pred_choice == targets.data).sum()\n",
    "        accuracy = correct.item()/float(32)\n",
    "\n",
    "        predictions.extend(pred_choice)\n",
    "        labels.extend(targets.data)\n"
   ],
   "metadata": {
    "collapsed": false,
    "ExecuteTime": {
     "start_time": "2023-04-23T23:44:10.452571Z",
     "end_time": "2023-04-23T23:44:21.894334Z"
    }
   }
  },
  {
   "cell_type": "code",
   "execution_count": 374,
   "outputs": [
    {
     "name": "stdout",
     "output_type": "stream",
     "text": [
      "              precision    recall  f1-score   support\n",
      "\n",
      "        Cone       0.94      1.00      0.97        50\n",
      "        Cube       0.78      0.98      0.87        50\n",
      "    Cylinder       1.00      0.96      0.98        50\n",
      "       Plane       1.00      0.72      0.84        50\n",
      "      Sphere       0.83      1.00      0.91        50\n",
      "       Torus       1.00      0.80      0.89        50\n",
      "\n",
      "    accuracy                           0.91       300\n",
      "   macro avg       0.93      0.91      0.91       300\n",
      "weighted avg       0.93      0.91      0.91       300\n",
      "\n"
     ]
    }
   ],
   "source": [
    "\n",
    "print(classification_report(encoder.inverse_transform(labels), encoder.inverse_transform(predictions)))"
   ],
   "metadata": {
    "collapsed": false,
    "ExecuteTime": {
     "start_time": "2023-04-24T00:00:28.065570Z",
     "end_time": "2023-04-24T00:00:28.111027Z"
    }
   }
  },
  {
   "cell_type": "code",
   "execution_count": 373,
   "outputs": [
    {
     "data": {
      "text/plain": "<Figure size 800x600 with 2 Axes>",
      "image/png": "[encoded data removed]"
     },
     "metadata": {},
     "output_type": "display_data"
    }
   ],
   "source": [
    "metric_names = ['loss', 'accuracy']\n",
    "_, ax = plt.subplots(len(metric_names), 1, figsize=(8, 6))\n",
    "\n",
    "for i, m in enumerate(metric_names):\n",
    "    ax[i].set_title(m)\n",
    "    ax[i].plot([t[i] for t in train_metrics], label='train')\n",
    "    ax[i].plot([t[i] for t in valid_metrics], label='train')\n",
    "    ax[i].legend()\n",
    "\n",
    "plt.subplots_adjust(wspace=0., hspace=0.35)\n",
    "plt.show()"
   ],
   "metadata": {
    "collapsed": false,
    "ExecuteTime": {
     "start_time": "2023-04-23T23:58:09.008214Z",
     "end_time": "2023-04-23T23:58:09.990659Z"
    }
   }
  },
  {
   "cell_type": "code",
   "execution_count": 378,
   "outputs": [
    {
     "name": "stdout",
     "output_type": "stream",
     "text": [
      "[[50  0  0  0  0  0]\n",
      " [ 1 49  0  0  0  0]\n",
      " [ 2  0 48  0  0  0]\n",
      " [ 0 14  0 36  0  0]\n",
      " [ 0  0  0  0 50  0]\n",
      " [ 0  0  0  0 10 40]]\n"
     ]
    },
    {
     "data": {
      "text/plain": "          Cone  Cube  Cylinder  Plane  Sphere  Torus\nCone        50     0         0      0       0      0\nCube         1    49         0      0       0      0\nCylinder     2     0        48      0       0      0\nPlane        0    14         0     36       0      0\nSphere       0     0         0      0      50      0\nTorus        0     0         0      0      10     40",
      "text/html": "<div>\n<style scoped>\n    .dataframe tbody tr th:only-of-type {\n        vertical-align: middle;\n    }\n\n    .dataframe tbody tr th {\n        vertical-align: top;\n    }\n\n    .dataframe thead th {\n        text-align: right;\n    }\n</style>\n<table border=\"1\" class=\"dataframe\">\n  <thead>\n    <tr style=\"text-align: right;\">\n      <th></th>\n      <th>Cone</th>\n      <th>Cube</th>\n      <th>Cylinder</th>\n      <th>Plane</th>\n      <th>Sphere</th>\n      <th>Torus</th>\n    </tr>\n  </thead>\n  <tbody>\n    <tr>\n      <th>Cone</th>\n      <td>50</td>\n      <td>0</td>\n      <td>0</td>\n      <td>0</td>\n      <td>0</td>\n      <td>0</td>\n    </tr>\n    <tr>\n      <th>Cube</th>\n      <td>1</td>\n      <td>49</td>\n      <td>0</td>\n      <td>0</td>\n      <td>0</td>\n      <td>0</td>\n    </tr>\n    <tr>\n      <th>Cylinder</th>\n      <td>2</td>\n      <td>0</td>\n      <td>48</td>\n      <td>0</td>\n      <td>0</td>\n      <td>0</td>\n    </tr>\n    <tr>\n      <th>Plane</th>\n      <td>0</td>\n      <td>14</td>\n      <td>0</td>\n      <td>36</td>\n      <td>0</td>\n      <td>0</td>\n    </tr>\n    <tr>\n      <th>Sphere</th>\n      <td>0</td>\n      <td>0</td>\n      <td>0</td>\n      <td>0</td>\n      <td>50</td>\n      <td>0</td>\n    </tr>\n    <tr>\n      <th>Torus</th>\n      <td>0</td>\n      <td>0</td>\n      <td>0</td>\n      <td>0</td>\n      <td>10</td>\n      <td>40</td>\n    </tr>\n  </tbody>\n</table>\n</div>"
     },
     "execution_count": 378,
     "metadata": {},
     "output_type": "execute_result"
    }
   ],
   "source": [
    "print(confusion_matrix(encoder.inverse_transform(labels), encoder.inverse_transform(predictions)))\n",
    "cf_matrix = pd.DataFrame(columns= encoder.classes_, index=encoder.classes_, data = confusion_matrix(encoder.inverse_transform(labels), encoder.inverse_transform(predictions)))\n",
    "cf_matrix"
   ],
   "metadata": {
    "collapsed": false,
    "ExecuteTime": {
     "start_time": "2023-04-24T00:01:59.722942Z",
     "end_time": "2023-04-24T00:01:59.791974Z"
    }
   }
  }
 ],
 "metadata": {
  "kernelspec": {
   "display_name": "Python 3",
   "language": "python",
   "name": "python3"
  },
  "language_info": {
   "codemirror_mode": {
    "name": "ipython",
    "version": 2
   },
   "file_extension": ".py",
   "mimetype": "text/x-python",
   "name": "python",
   "nbconvert_exporter": "python",
   "pygments_lexer": "ipython2",
   "version": "2.7.6"
  }
 },
 "nbformat": 4,
 "nbformat_minor": 0
}
